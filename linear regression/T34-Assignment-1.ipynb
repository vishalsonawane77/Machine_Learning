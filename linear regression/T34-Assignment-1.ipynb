{
 "cells": [
  {
   "cell_type": "code",
   "execution_count": 2,
   "metadata": {},
   "outputs": [
    {
     "data": {
      "text/plain": [
       "'\\nSolve the Linear Regression algorithm of M.L using the given\\ndataset father_son.csv\\n1) input feature is Fathers height and output variable is Sons\\nheight\\n2) split the data into training and testing parts:\\n80% for training and 20% for testing.\\n3) Execute your program and note down the following points:\\ni) accuracy\\nii) predict son height by giving fathers height as 63,55,71.3\\niii) try new prediction by giving unknown inputs to the model\\n'"
      ]
     },
     "execution_count": 2,
     "metadata": {},
     "output_type": "execute_result"
    }
   ],
   "source": [
    "'''\n",
    "Solve the Linear Regression algorithm of M.L using the given\n",
    "dataset father_son.csv\n",
    "1) input feature is Fathers height and output variable is Sons\n",
    "height\n",
    "2) split the data into training and testing parts:\n",
    "80% for training and 20% for testing.\n",
    "3) Execute your program and note down the following points:\n",
    "i) accuracy\n",
    "ii) predict son height by giving fathers height as 63,55,71.3\n",
    "iii) try new prediction by giving unknown inputs to the model\n",
    "'''"
   ]
  },
  {
   "cell_type": "code",
   "execution_count": 3,
   "metadata": {},
   "outputs": [
    {
     "data": {
      "text/html": [
       "<div>\n",
       "<style scoped>\n",
       "    .dataframe tbody tr th:only-of-type {\n",
       "        vertical-align: middle;\n",
       "    }\n",
       "\n",
       "    .dataframe tbody tr th {\n",
       "        vertical-align: top;\n",
       "    }\n",
       "\n",
       "    .dataframe thead th {\n",
       "        text-align: right;\n",
       "    }\n",
       "</style>\n",
       "<table border=\"1\" class=\"dataframe\">\n",
       "  <thead>\n",
       "    <tr style=\"text-align: right;\">\n",
       "      <th></th>\n",
       "      <th>Father</th>\n",
       "      <th>Son</th>\n",
       "    </tr>\n",
       "  </thead>\n",
       "  <tbody>\n",
       "    <tr>\n",
       "      <th>0</th>\n",
       "      <td>65.0</td>\n",
       "      <td>59.8</td>\n",
       "    </tr>\n",
       "    <tr>\n",
       "      <th>1</th>\n",
       "      <td>63.3</td>\n",
       "      <td>63.2</td>\n",
       "    </tr>\n",
       "    <tr>\n",
       "      <th>2</th>\n",
       "      <td>65.0</td>\n",
       "      <td>63.3</td>\n",
       "    </tr>\n",
       "    <tr>\n",
       "      <th>3</th>\n",
       "      <td>65.8</td>\n",
       "      <td>62.8</td>\n",
       "    </tr>\n",
       "    <tr>\n",
       "      <th>4</th>\n",
       "      <td>61.1</td>\n",
       "      <td>64.3</td>\n",
       "    </tr>\n",
       "    <tr>\n",
       "      <th>...</th>\n",
       "      <td>...</td>\n",
       "      <td>...</td>\n",
       "    </tr>\n",
       "    <tr>\n",
       "      <th>1073</th>\n",
       "      <td>67.0</td>\n",
       "      <td>70.8</td>\n",
       "    </tr>\n",
       "    <tr>\n",
       "      <th>1074</th>\n",
       "      <td>71.3</td>\n",
       "      <td>68.3</td>\n",
       "    </tr>\n",
       "    <tr>\n",
       "      <th>1075</th>\n",
       "      <td>71.8</td>\n",
       "      <td>69.3</td>\n",
       "    </tr>\n",
       "    <tr>\n",
       "      <th>1076</th>\n",
       "      <td>70.7</td>\n",
       "      <td>69.3</td>\n",
       "    </tr>\n",
       "    <tr>\n",
       "      <th>1077</th>\n",
       "      <td>70.3</td>\n",
       "      <td>67.0</td>\n",
       "    </tr>\n",
       "  </tbody>\n",
       "</table>\n",
       "<p>1078 rows × 2 columns</p>\n",
       "</div>"
      ],
      "text/plain": [
       "      Father   Son\n",
       "0       65.0  59.8\n",
       "1       63.3  63.2\n",
       "2       65.0  63.3\n",
       "3       65.8  62.8\n",
       "4       61.1  64.3\n",
       "...      ...   ...\n",
       "1073    67.0  70.8\n",
       "1074    71.3  68.3\n",
       "1075    71.8  69.3\n",
       "1076    70.7  69.3\n",
       "1077    70.3  67.0\n",
       "\n",
       "[1078 rows x 2 columns]"
      ]
     },
     "execution_count": 3,
     "metadata": {},
     "output_type": "execute_result"
    }
   ],
   "source": [
    "import pandas as pd\n",
    "df = pd.read_csv('father-son.csv')\n",
    "df"
   ]
  },
  {
   "cell_type": "code",
   "execution_count": 4,
   "metadata": {},
   "outputs": [],
   "source": [
    "#1) input feature is Fathers height and output variable is Sonsheight\n",
    "X = df.drop('Son',axis = 1)\n",
    "y = df['Son']\n",
    "\n",
    "#2) split the data into training and testing parts:80% for training and 20% for testing.\n",
    "from sklearn.model_selection import train_test_split\n",
    "X_train,X_test,y_train,y_test = train_test_split(X,y,test_size = 0.2)\n"
   ]
  },
  {
   "cell_type": "code",
   "execution_count": 5,
   "metadata": {},
   "outputs": [
    {
     "data": {
      "text/html": [
       "<style>#sk-container-id-1 {color: black;}#sk-container-id-1 pre{padding: 0;}#sk-container-id-1 div.sk-toggleable {background-color: white;}#sk-container-id-1 label.sk-toggleable__label {cursor: pointer;display: block;width: 100%;margin-bottom: 0;padding: 0.3em;box-sizing: border-box;text-align: center;}#sk-container-id-1 label.sk-toggleable__label-arrow:before {content: \"▸\";float: left;margin-right: 0.25em;color: #696969;}#sk-container-id-1 label.sk-toggleable__label-arrow:hover:before {color: black;}#sk-container-id-1 div.sk-estimator:hover label.sk-toggleable__label-arrow:before {color: black;}#sk-container-id-1 div.sk-toggleable__content {max-height: 0;max-width: 0;overflow: hidden;text-align: left;background-color: #f0f8ff;}#sk-container-id-1 div.sk-toggleable__content pre {margin: 0.2em;color: black;border-radius: 0.25em;background-color: #f0f8ff;}#sk-container-id-1 input.sk-toggleable__control:checked~div.sk-toggleable__content {max-height: 200px;max-width: 100%;overflow: auto;}#sk-container-id-1 input.sk-toggleable__control:checked~label.sk-toggleable__label-arrow:before {content: \"▾\";}#sk-container-id-1 div.sk-estimator input.sk-toggleable__control:checked~label.sk-toggleable__label {background-color: #d4ebff;}#sk-container-id-1 div.sk-label input.sk-toggleable__control:checked~label.sk-toggleable__label {background-color: #d4ebff;}#sk-container-id-1 input.sk-hidden--visually {border: 0;clip: rect(1px 1px 1px 1px);clip: rect(1px, 1px, 1px, 1px);height: 1px;margin: -1px;overflow: hidden;padding: 0;position: absolute;width: 1px;}#sk-container-id-1 div.sk-estimator {font-family: monospace;background-color: #f0f8ff;border: 1px dotted black;border-radius: 0.25em;box-sizing: border-box;margin-bottom: 0.5em;}#sk-container-id-1 div.sk-estimator:hover {background-color: #d4ebff;}#sk-container-id-1 div.sk-parallel-item::after {content: \"\";width: 100%;border-bottom: 1px solid gray;flex-grow: 1;}#sk-container-id-1 div.sk-label:hover label.sk-toggleable__label {background-color: #d4ebff;}#sk-container-id-1 div.sk-serial::before {content: \"\";position: absolute;border-left: 1px solid gray;box-sizing: border-box;top: 0;bottom: 0;left: 50%;z-index: 0;}#sk-container-id-1 div.sk-serial {display: flex;flex-direction: column;align-items: center;background-color: white;padding-right: 0.2em;padding-left: 0.2em;position: relative;}#sk-container-id-1 div.sk-item {position: relative;z-index: 1;}#sk-container-id-1 div.sk-parallel {display: flex;align-items: stretch;justify-content: center;background-color: white;position: relative;}#sk-container-id-1 div.sk-item::before, #sk-container-id-1 div.sk-parallel-item::before {content: \"\";position: absolute;border-left: 1px solid gray;box-sizing: border-box;top: 0;bottom: 0;left: 50%;z-index: -1;}#sk-container-id-1 div.sk-parallel-item {display: flex;flex-direction: column;z-index: 1;position: relative;background-color: white;}#sk-container-id-1 div.sk-parallel-item:first-child::after {align-self: flex-end;width: 50%;}#sk-container-id-1 div.sk-parallel-item:last-child::after {align-self: flex-start;width: 50%;}#sk-container-id-1 div.sk-parallel-item:only-child::after {width: 0;}#sk-container-id-1 div.sk-dashed-wrapped {border: 1px dashed gray;margin: 0 0.4em 0.5em 0.4em;box-sizing: border-box;padding-bottom: 0.4em;background-color: white;}#sk-container-id-1 div.sk-label label {font-family: monospace;font-weight: bold;display: inline-block;line-height: 1.2em;}#sk-container-id-1 div.sk-label-container {text-align: center;}#sk-container-id-1 div.sk-container {/* jupyter's `normalize.less` sets `[hidden] { display: none; }` but bootstrap.min.css set `[hidden] { display: none !important; }` so we also need the `!important` here to be able to override the default hidden behavior on the sphinx rendered scikit-learn.org. See: https://github.com/scikit-learn/scikit-learn/issues/21755 */display: inline-block !important;position: relative;}#sk-container-id-1 div.sk-text-repr-fallback {display: none;}</style><div id=\"sk-container-id-1\" class=\"sk-top-container\"><div class=\"sk-text-repr-fallback\"><pre>LinearRegression()</pre><b>In a Jupyter environment, please rerun this cell to show the HTML representation or trust the notebook. <br />On GitHub, the HTML representation is unable to render, please try loading this page with nbviewer.org.</b></div><div class=\"sk-container\" hidden><div class=\"sk-item\"><div class=\"sk-estimator sk-toggleable\"><input class=\"sk-toggleable__control sk-hidden--visually\" id=\"sk-estimator-id-1\" type=\"checkbox\" checked><label for=\"sk-estimator-id-1\" class=\"sk-toggleable__label sk-toggleable__label-arrow\">LinearRegression</label><div class=\"sk-toggleable__content\"><pre>LinearRegression()</pre></div></div></div></div></div>"
      ],
      "text/plain": [
       "LinearRegression()"
      ]
     },
     "execution_count": 5,
     "metadata": {},
     "output_type": "execute_result"
    }
   ],
   "source": [
    "from sklearn.linear_model import LinearRegression\n",
    "result = LinearRegression()\n",
    "result.fit(X_train,y_train)"
   ]
  },
  {
   "cell_type": "code",
   "execution_count": 13,
   "metadata": {},
   "outputs": [
    {
     "name": "stdout",
     "output_type": "stream",
     "text": [
      "[0.50687385]\n"
     ]
    },
    {
     "ename": "NameError",
     "evalue": "name 'r' is not defined",
     "output_type": "error",
     "traceback": [
      "\u001b[1;31m---------------------------------------------------------------------------\u001b[0m",
      "\u001b[1;31mNameError\u001b[0m                                 Traceback (most recent call last)",
      "Cell \u001b[1;32mIn[13], line 3\u001b[0m\n\u001b[0;32m      1\u001b[0m \u001b[38;5;66;03m#coefficient\u001b[39;00m\n\u001b[0;32m      2\u001b[0m \u001b[38;5;28mprint\u001b[39m(result\u001b[38;5;241m.\u001b[39mcoef_)\n\u001b[1;32m----> 3\u001b[0m \u001b[38;5;28mprint\u001b[39m(\u001b[43mr\u001b[49m)\n",
      "\u001b[1;31mNameError\u001b[0m: name 'r' is not defined"
     ]
    }
   ],
   "source": [
    "#coefficient\n",
    "print(result.coef_)\n",
    "print(r)"
   ]
  },
  {
   "cell_type": "code",
   "execution_count": 7,
   "metadata": {},
   "outputs": [
    {
     "data": {
      "text/plain": [
       "array([69.53655279, 66.74874663, 66.8501214 , 69.99273925, 68.5228051 ,\n",
       "       66.03912324, 68.06661863, 69.78998972, 66.90080878, 68.47211771,\n",
       "       68.82692941, 67.91455648, 67.61043217, 69.58724018, 68.77624202,\n",
       "       70.44892572, 69.08036633, 69.8406771 , 68.82692941, 67.8638691 ,\n",
       "       69.28311587, 69.28311587, 70.90511218, 64.92400078, 67.00218355,\n",
       "       66.69805925, 69.38449064, 67.55974479, 66.03912324, 67.8638691 ,\n",
       "       70.75305003, 68.57349248, 69.8406771 , 67.00218355, 68.42143033,\n",
       "       69.28311587, 71.05717433, 68.47211771, 67.20493309, 68.72555464,\n",
       "       67.76249433, 66.90080878, 67.00218355, 64.56918909, 69.89136448,\n",
       "       69.99273925, 67.25562048, 69.48586541, 69.13105371, 68.37074294,\n",
       "       67.81318171, 66.69805925, 69.99273925, 67.91455648, 69.8406771 ,\n",
       "       68.72555464, 70.14480141, 69.02967894, 70.04342664, 70.55030049,\n",
       "       69.94205187, 69.33380325, 69.08036633, 67.96524386, 67.81318171,\n",
       "       69.43517802, 68.87761679, 66.79943402, 69.58724018, 66.08981063,\n",
       "       70.4996131 , 68.97899156, 68.97899156, 67.35699525, 67.96524386,\n",
       "       69.63792756, 69.08036633, 70.95579956, 65.88706109, 67.45837002,\n",
       "       69.99273925, 68.77624202, 68.42143033, 66.90080878, 67.91455648,\n",
       "       68.37074294, 69.68861495, 69.58724018, 67.66111956, 68.77624202,\n",
       "       66.74874663, 68.82692941, 67.61043217, 67.76249433, 70.24617618,\n",
       "       67.66111956, 68.21868079, 69.33380325, 68.77624202, 69.78998972,\n",
       "       68.26936817, 67.8638691 , 66.90080878, 68.67486725, 68.97899156,\n",
       "       67.91455648, 68.01593125, 69.23242848, 67.20493309, 67.71180694,\n",
       "       67.66111956, 67.76249433, 69.53655279, 69.53655279, 67.35699525,\n",
       "       67.76249433, 68.67486725, 70.60098787, 71.20923649, 71.41198603,\n",
       "       69.02967894, 67.76249433, 68.26936817, 67.76249433, 67.66111956,\n",
       "       70.39823833, 68.82692941, 68.37074294, 67.8638691 , 70.24617618,\n",
       "       67.71180694, 68.87761679, 68.67486725, 67.5090574 , 68.82692941,\n",
       "       67.20493309, 70.55030049, 69.13105371, 67.15424571, 66.90080878,\n",
       "       68.5228051 , 69.58724018, 67.8638691 , 69.02967894, 68.77624202,\n",
       "       65.68431155, 69.43517802, 66.29256017, 67.55974479, 68.92830417,\n",
       "       66.90080878, 70.04342664, 68.26936817, 68.62417987, 68.67486725,\n",
       "       67.8638691 , 69.08036633, 69.02967894, 69.8406771 , 68.5228051 ,\n",
       "       67.96524386, 70.34755095, 67.20493309, 69.13105371, 68.87761679,\n",
       "       69.99273925, 66.79943402, 68.26936817, 69.23242848, 70.34755095,\n",
       "       67.76249433, 69.02967894, 66.79943402, 65.88706109, 70.29686356,\n",
       "       69.63792756, 70.14480141, 70.85442479, 68.47211771, 69.33380325,\n",
       "       69.89136448, 66.34324755, 67.40768263, 68.01593125, 68.97899156,\n",
       "       70.44892572, 67.71180694, 71.31061126, 69.13105371, 67.40768263,\n",
       "       67.30630786, 67.35699525, 70.55030049, 68.57349248, 69.02967894,\n",
       "       68.87761679, 65.73499894, 67.10355832, 68.62417987, 66.49530971,\n",
       "       68.11730602, 65.27881247, 67.10355832, 68.97899156, 66.1911854 ,\n",
       "       69.28311587, 68.42143033, 67.20493309, 69.38449064, 66.64737186,\n",
       "       69.02967894, 68.57349248, 70.60098787, 68.42143033, 67.10355832,\n",
       "       70.90511218])"
      ]
     },
     "execution_count": 7,
     "metadata": {},
     "output_type": "execute_result"
    }
   ],
   "source": [
    "#3)-i)accuracy\n",
    "predictions = result.predict(X_test)\n",
    "predictions"
   ]
  },
  {
   "cell_type": "code",
   "execution_count": 8,
   "metadata": {},
   "outputs": [
    {
     "data": {
      "image/png": "[encoded data removed]",
      "text/plain": [
       "<Figure size 640x480 with 1 Axes>"
      ]
     },
     "metadata": {},
     "output_type": "display_data"
    }
   ],
   "source": [
    "#Plot the line\n",
    "import matplotlib.pyplot as plt\n",
    "plt.scatter(X_train, y_train, color ='c')\n",
    "plt.plot(X_test, predictions, color ='k')\n",
    "plt.show() "
   ]
  },
  {
   "cell_type": "code",
   "execution_count": 9,
   "metadata": {},
   "outputs": [
    {
     "data": {
      "text/plain": [
       "0.27195932110778054"
      ]
     },
     "execution_count": 9,
     "metadata": {},
     "output_type": "execute_result"
    }
   ],
   "source": [
    "from sklearn.metrics import r2_score\n",
    "r2_score(y_test,predictions)"
   ]
  },
  {
   "cell_type": "code",
   "execution_count": 10,
   "metadata": {},
   "outputs": [
    {
     "name": "stderr",
     "output_type": "stream",
     "text": [
      "c:\\Python311\\Lib\\site-packages\\sklearn\\base.py:465: UserWarning: X does not have valid feature names, but LinearRegression was fitted with feature names\n",
      "  warnings.warn(\n"
     ]
    },
    {
     "data": {
      "text/plain": [
       "array([66.34324755])"
      ]
     },
     "execution_count": 10,
     "metadata": {},
     "output_type": "execute_result"
    }
   ],
   "source": [
    "pred_new=result.predict([[63]])\n",
    "pred_new"
   ]
  },
  {
   "cell_type": "code",
   "execution_count": 11,
   "metadata": {},
   "outputs": [
    {
     "name": "stderr",
     "output_type": "stream",
     "text": [
      "c:\\Python311\\Lib\\site-packages\\sklearn\\base.py:465: UserWarning: X does not have valid feature names, but LinearRegression was fitted with feature names\n",
      "  warnings.warn(\n"
     ]
    },
    {
     "data": {
      "text/plain": [
       "array([62.28825677])"
      ]
     },
     "execution_count": 11,
     "metadata": {},
     "output_type": "execute_result"
    }
   ],
   "source": [
    "pred_new=result.predict([[55]])\n",
    "pred_new"
   ]
  },
  {
   "cell_type": "code",
   "execution_count": 12,
   "metadata": {},
   "outputs": [
    {
     "name": "stderr",
     "output_type": "stream",
     "text": [
      "c:\\Python311\\Lib\\site-packages\\sklearn\\base.py:465: UserWarning: X does not have valid feature names, but LinearRegression was fitted with feature names\n",
      "  warnings.warn(\n"
     ]
    },
    {
     "data": {
      "text/plain": [
       "array([70.55030049])"
      ]
     },
     "execution_count": 12,
     "metadata": {},
     "output_type": "execute_result"
    }
   ],
   "source": [
    "pred_new=result.predict([[71.3]])\n",
    "pred_new"
   ]
  },
  {
   "cell_type": "code",
   "execution_count": null,
   "metadata": {},
   "outputs": [],
   "source": []
  }
 ],
 "metadata": {
  "kernelspec": {
   "display_name": "Python 3",
   "language": "python",
   "name": "python3"
  },
  "language_info": {
   "codemirror_mode": {
    "name": "ipython",
    "version": 3
   },
   "file_extension": ".py",
   "mimetype": "text/x-python",
   "name": "python",
   "nbconvert_exporter": "python",
   "pygments_lexer": "ipython3",
   "version": "3.11.1"
  }
 },
 "nbformat": 4,
 "nbformat_minor": 2
}
