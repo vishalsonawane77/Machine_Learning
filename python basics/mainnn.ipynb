{
  "cells": [
    {
      "cell_type": "code",
      "execution_count": 1,
      "metadata": {
        "trusted": true
      },
      "outputs": [
        {
          "name": "stdout",
          "output_type": "stream",
          "text": [
            "<class 'int'>\n",
            "<class 'float'>\n",
            "<class 'str'>\n"
          ]
        }
      ],
      "source": [
        "a=60\n",
        "b=5.6\n",
        "c=\"Vishal\"\n",
        "print(type(a))\n",
        "print(type(b))\n",
        "print(type(c))\n",
        "\n"
      ]
    },
    {
      "cell_type": "code",
      "execution_count": 2,
      "metadata": {
        "trusted": true
      },
      "outputs": [
        {
          "name": "stdout",
          "output_type": "stream",
          "text": [
            "4\n"
          ]
        }
      ],
      "source": [
        "a,b,c = 4,5,\"Vishal\"\n",
        "print((a))"
      ]
    },
    {
      "cell_type": "code",
      "execution_count": 3,
      "metadata": {
        "trusted": true
      },
      "outputs": [
        {
          "name": "stdout",
          "output_type": "stream",
          "text": [
            "4\n"
          ]
        }
      ],
      "source": [
        "a = b = c = 4\n",
        "print(a)\n"
      ]
    },
    {
      "cell_type": "code",
      "execution_count": 4,
      "metadata": {
        "trusted": true
      },
      "outputs": [
        {
          "name": "stdout",
          "output_type": "stream",
          "text": [
            "140719927912968\n"
          ]
        }
      ],
      "source": [
        "x= 56\n",
        "print(id(x))"
      ]
    },
    {
      "cell_type": "code",
      "execution_count": 5,
      "metadata": {
        "trusted": true
      },
      "outputs": [
        {
          "name": "stdout",
          "output_type": "stream",
          "text": [
            "values before swaping:a = 3 b = 4\n",
            "values after swaping:a = 4 b = 3\n"
          ]
        }
      ],
      "source": [
        "a=3\n",
        "b=4\n",
        "print(\"values before swaping:\"\"a =\",a,\"b =\",b)\n",
        "a,b = b,a\n",
        "print(\"values after swaping:\"\"a =\",a,\"b =\",b)\n"
      ]
    },
    {
      "cell_type": "code",
      "execution_count": 6,
      "metadata": {
        "trusted": true
      },
      "outputs": [
        {
          "name": "stdout",
          "output_type": "stream",
          "text": [
            "values before swaping:a = 3 b = 4\n",
            "values after swaping:a = 4 b = 3\n"
          ]
        }
      ],
      "source": [
        "a=3\n",
        "b=4\n",
        "print(\"values before swaping:\"\"a =\",a,\"b =\",b)\n",
        "temp = a\n",
        "a = b\n",
        "b = temp\n",
        "print(\"values after swaping:\"\"a =\",a,\"b =\",b)\n"
      ]
    },
    {
      "cell_type": "code",
      "execution_count": 7,
      "metadata": {
        "trusted": true
      },
      "outputs": [
        {
          "name": "stdout",
          "output_type": "stream",
          "text": [
            "Area of municipal garden= 10000\n",
            "perimeter of municipal garden= 500\n"
          ]
        }
      ],
      "source": [
        "len = 200\n",
        "wth = 50\n",
        "print(\"Area of municipal garden=\",len*wth)\n",
        "print(\"perimeter of municipal garden=\",2*len + 2*wth)"
      ]
    },
    {
      "cell_type": "code",
      "execution_count": 8,
      "metadata": {
        "trusted": true
      },
      "outputs": [
        {
          "name": "stdout",
          "output_type": "stream",
          "text": [
            "22600.0\n"
          ]
        }
      ],
      "source": [
        "salary = 20000\n",
        "hra = 10*20000/100\n",
        "ta = 5*20000/100\n",
        "tax = 2*20000/100\n",
        "final_salary = salary+hra+ta-tax\n",
        "print(final_salary)\n"
      ]
    },
    {
      "cell_type": "code",
      "execution_count": 9,
      "metadata": {
        "trusted": true
      },
      "outputs": [
        {
          "name": "stdout",
          "output_type": "stream",
          "text": [
            "Python is a multi-paradigm programming language\n"
          ]
        }
      ],
      "source": [
        "a=\"Python is a multi-paradigm programming language\"\n",
        "print(a[0:100])"
      ]
    },
    {
      "cell_type": "code",
      "execution_count": 10,
      "metadata": {
        "trusted": true
      },
      "outputs": [
        {
          "name": "stdout",
          "output_type": "stream",
          "text": [
            "India is my country India is my country How are you\n"
          ]
        }
      ],
      "source": [
        "s1 = \"India is my country \"\n",
        "s2 = \"How are you\"\n",
        "print(s1*2 + s2)"
      ]
    },
    {
      "cell_type": "code",
      "execution_count": 11,
      "metadata": {
        "trusted": true
      },
      "outputs": [
        {
          "data": {
            "text/plain": [
              "'TODAY IS MONDAY'"
            ]
          },
          "execution_count": 11,
          "metadata": {},
          "output_type": "execute_result"
        }
      ],
      "source": [
        "\"Today is Monday\".upper()"
      ]
    },
    {
      "cell_type": "code",
      "execution_count": 3,
      "metadata": {
        "trusted": true
      },
      "outputs": [
        {
          "name": "stdout",
          "output_type": "stream",
          "text": [
            "<reversed object at 0x000001E24BAE4670>\n",
            "String Madam is Palindrome\n"
          ]
        }
      ],
      "source": [
        "strg = \"Madam\"\n",
        "strg=strg.lower()\n",
        "print\n",
        "revg = reversed(strg)\n",
        "print(revg)\n",
        "if list(strg)==list(revg):\n",
        "    print(\"String Madam is Palindrome\")\n",
        "else:\n",
        "    print(\"String Madam is not Palindrome\")"
      ]
    },
    {
      "cell_type": "code",
      "execution_count": 13,
      "metadata": {
        "trusted": true
      },
      "outputs": [
        {
          "name": "stdout",
          "output_type": "stream",
          "text": [
            "True\n"
          ]
        }
      ],
      "source": [
        "s=\"Madam\"\n",
        "s=s.lower()\n",
        "rev=reversed(s)\n",
        "if list(s)==list(rev):\n",
        "    print(\"True\")\n",
        "else:\n",
        "    print(\"False\")   \n"
      ]
    },
    {
      "cell_type": "code",
      "execution_count": 14,
      "metadata": {},
      "outputs": [
        {
          "name": "stdout",
          "output_type": "stream",
          "text": [
            "140719927911368\n"
          ]
        }
      ],
      "source": [
        "a=6\n",
        "print(id(a))"
      ]
    },
    {
      "cell_type": "code",
      "execution_count": 15,
      "metadata": {},
      "outputs": [
        {
          "name": "stdout",
          "output_type": "stream",
          "text": [
            "The value of a:2 and b:3\n"
          ]
        }
      ],
      "source": [
        "a = 2;b = 3\n",
        "print(\"The value of a:{} and b:{}\".format(a,b))   #default value\n"
      ]
    },
    {
      "cell_type": "code",
      "execution_count": 16,
      "metadata": {},
      "outputs": [
        {
          "name": "stdout",
          "output_type": "stream",
          "text": [
            "The value of a:3 and b:2\n"
          ]
        }
      ],
      "source": [
        "a = 2;b = 3\n",
        "print(\"The value of a:{1} and b:{0}\".format(a,b))   #specify position\n"
      ]
    },
    {
      "cell_type": "code",
      "execution_count": 20,
      "metadata": {},
      "outputs": [
        {
          "name": "stdout",
          "output_type": "stream",
          "text": [
            "my name is vishal of dept AIDS\n"
          ]
        }
      ],
      "source": [
        "print(\"my name is {0} of dept {1}\".format('vishal','AIDS'))"
      ]
    },
    {
      "cell_type": "code",
      "execution_count": 1,
      "metadata": {},
      "outputs": [
        {
          "name": "stdout",
          "output_type": "stream",
          "text": [
            "10\n"
          ]
        }
      ],
      "source": [
        "d = int(input(\"Enter the value of a:\"))\n",
        "print(d)"
      ]
    },
    {
      "cell_type": "code",
      "execution_count": 3,
      "metadata": {},
      "outputs": [
        {
          "name": "stdout",
          "output_type": "stream",
          "text": [
            "don\n"
          ]
        }
      ],
      "source": [
        "fg=input(\"Enter your name:\")\n",
        "print(fg)"
      ]
    },
    {
      "cell_type": "code",
      "execution_count": 8,
      "metadata": {},
      "outputs": [
        {
          "name": "stdout",
          "output_type": "stream",
          "text": [
            "12\n"
          ]
        }
      ],
      "source": [
        "Age=int(input(\"Enter ur age:\"))\n",
        "print(Age)"
      ]
    },
    {
      "cell_type": "code",
      "execution_count": 23,
      "metadata": {},
      "outputs": [
        {
          "name": "stdout",
          "output_type": "stream",
          "text": [
            "hello Vishal,How are you?\n"
          ]
        }
      ],
      "source": [
        "a = input(\"Enter your name\")\n",
        "print(\"hello {name},{greet}\".format(name=a,greet='How are you?'))"
      ]
    },
    {
      "cell_type": "code",
      "execution_count": 28,
      "metadata": {},
      "outputs": [
        {
          "name": "stdout",
          "output_type": "stream",
          "text": [
            "2x3=6\n"
          ]
        }
      ],
      "source": [
        "a=int(input(\"Enter the value of a:\"))\n",
        "b=int(input(\"Enter the value of b:\"))\n",
        "c = a*b\n",
        "print(\"{}x{}={}\".format(a,b,c))"
      ]
    },
    {
      "cell_type": "code",
      "execution_count": 29,
      "metadata": {},
      "outputs": [
        {
          "name": "stdout",
          "output_type": "stream",
          "text": [
            "30\n",
            "10\n",
            "200\n",
            "2.0\n",
            "0\n",
            "2\n",
            "10240000000000\n"
          ]
        }
      ],
      "source": [
        "a = 20\n",
        "b = 10\n",
        "print(a+b)\n",
        "print(a-b)\n",
        "print(a*b)\n",
        "print(a/b)            #Arithmetic Operators\n",
        "print(a%b)\n",
        "print(a//b)\n",
        "print(a**b)"
      ]
    },
    {
      "cell_type": "code",
      "execution_count": 31,
      "metadata": {},
      "outputs": [
        {
          "name": "stdout",
          "output_type": "stream",
          "text": [
            "True\n",
            "False\n"
          ]
        }
      ],
      "source": [
        "a = 25\n",
        "b = 45                  #Comparison Operator\n",
        "print(a<=b)\n",
        "print(a>=b)"
      ]
    },
    {
      "cell_type": "code",
      "execution_count": 32,
      "metadata": {},
      "outputs": [
        {
          "name": "stdout",
          "output_type": "stream",
          "text": [
            "True\n"
          ]
        }
      ],
      "source": [
        "a = True\n",
        "b = True\n",
        "print(a and b)"
      ]
    },
    {
      "cell_type": "code",
      "execution_count": 39,
      "metadata": {},
      "outputs": [
        {
          "name": "stdout",
          "output_type": "stream",
          "text": [
            "12\n"
          ]
        }
      ],
      "source": [
        "a = 60\n",
        "b = 13\n",
        "print(a&b)"
      ]
    },
    {
      "cell_type": "code",
      "execution_count": 44,
      "metadata": {},
      "outputs": [
        {
          "name": "stdout",
          "output_type": "stream",
          "text": [
            "87 + 23 =  110\n",
            "87 - 23 =  64\n",
            "87 x 23 =  2001\n",
            "87 / 23 =  3.782608695652174\n"
          ]
        }
      ],
      "source": [
        "a = int(input(\"Enter the value of a : \"))\n",
        "b = int(input(\"Enter the value of b : \"))\n",
        "print(\"{} + {} = \".format(a,b),a+b)\n",
        "print(\"{} - {} = \".format(a,b),a-b)\n",
        "print(\"{} x {} = \".format(a,b),a*b)\n",
        "print(\"{} / {} = \".format(a,b),a/b)"
      ]
    },
    {
      "cell_type": "code",
      "execution_count": 46,
      "metadata": {},
      "outputs": [
        {
          "name": "stdout",
          "output_type": "stream",
          "text": [
            "False\n"
          ]
        }
      ],
      "source": [
        "a=3\n",
        "b=3\n",
        "print(a!=b)"
      ]
    },
    {
      "cell_type": "code",
      "execution_count": 52,
      "metadata": {},
      "outputs": [
        {
          "name": "stdout",
          "output_type": "stream",
          "text": [
            "num 1 is greatest no. as 23>15>13\n"
          ]
        }
      ],
      "source": [
        "num1 = int(input(\"Enter num1:\"))\n",
        "num2 = int(input(\"Enter num2:\"))\n",
        "num3 = int(input(\"Enter num3:\"))\n",
        "\n",
        "if(num1>=num2 and num1>=num3):\n",
        "    if(num2>=num3):\n",
        "        print(\"num 1 is greatest no. as {}>{}>{}\".format(num1,num2,num3))\n",
        "    else:\n",
        "        print(\"num 2 is greatest no. as {}>{}>{}\".format(num1,num3,num2))\n",
        "elif(num2>=num1 and num2>=num3):\n",
        "    if(num1>=num3):\n",
        "        print(\"num 2 is greatest no. as {}>{}>{}\".format(num2,num1,num3))\n",
        "    else:\n",
        "        print(\"num 2 is greatest no. as {}>{}>{}\".format(num2,num3,num1))\n",
        "else:\n",
        "    if(num1>=num2):\n",
        "        print(\"num 2 is greatest no. as {}>{}>{}\".format(num3,num1,num2))\n",
        "    else:\n",
        "        print(\"num 2 is greatest no. as {}>{}>{}\".format(num3,num2,num1))\n",
        "        \n"
      ]
    },
    {
      "cell_type": "code",
      "execution_count": 55,
      "metadata": {},
      "outputs": [
        {
          "name": "stdout",
          "output_type": "stream",
          "text": [
            "yeahh!! you are eligible to vote\n"
          ]
        }
      ],
      "source": [
        "'''\n",
        "Python Program to check whether a person is eligible to\n",
        "vote or not.\n",
        "'''\n",
        "\n",
        "age = int(input(\"Please Enter your Age:\"))\n",
        "\n",
        "if age<18:\n",
        "    print(\"Ooops!! Sorry your not eligible to vote age is below 18 \")\n",
        "else:\n",
        "    print(\"yeahh!! you are eligible to vote\")\n",
        "    "
      ]
    },
    {
      "cell_type": "code",
      "execution_count": 58,
      "metadata": {},
      "outputs": [
        {
          "name": "stdout",
          "output_type": "stream",
          "text": [
            "45 is odd no.\n"
          ]
        }
      ],
      "source": [
        "a = int(input(\"Enter the no.\"))\n",
        "\n",
        "if a%2==0:\n",
        "    print(\"{} is even no.\".format(a))\n",
        "else:\n",
        "    print(\"{} is odd no.\".format(a))\n"
      ]
    },
    {
      "cell_type": "code",
      "execution_count": 24,
      "metadata": {},
      "outputs": [
        {
          "name": "stdout",
          "output_type": "stream",
          "text": [
            "You get 20% dicount of Rs 5000.0 on purchase of 25000\n",
            "Your discounted sale price is: 20000.0\n",
            "----Have nice day keep shooping in our shop!!!----\n"
          ]
        }
      ],
      "source": [
        "amt = int(input(\"Enter sale price:\"))\n",
        "\n",
        "discount = b*a/100   #discount amount\n",
        "famt = a-discount    #final amount\n",
        "\n",
        "def disc():\n",
        "    print(\"You get {}% dicount of Rs {} on purchase of {}\".format(b,discount,amt))\n",
        "    print(\"Your discounted sale price is:\",famt)\n",
        "    print(\"----Have nice day keep shooping in our shop!!!----\")\n",
        "    \n",
        "if(amt>0):\n",
        "    if(2000<=amt<5000):\n",
        "        b=5                  # b is % of dicount\n",
        "        discount = b*amt/100\n",
        "        famt = amt-discount\n",
        "        disc()\n",
        "    \n",
        "    elif(5000<=amt<10000):\n",
        "        b=10\n",
        "        discount = b*amt/100\n",
        "        famt = amt-discount\n",
        "        disc()\n",
        "        \n",
        "    elif(10000<=amt<20000):\n",
        "        b=15\n",
        "        discount = b*amt/100\n",
        "        famt = amt-discount\n",
        "        disc()\n",
        "    \n",
        "    elif(20000<=amt<=30000):\n",
        "        b=20\n",
        "        discount = b*amt/100\n",
        "        famt = amt-discount\n",
        "        disc()\n",
        "        \n",
        "else:\n",
        "    print(\"You enter invalid amount\")\n",
        "    "
      ]
    },
    {
      "cell_type": "code",
      "execution_count": 19,
      "metadata": {},
      "outputs": [
        {
          "name": "stdout",
          "output_type": "stream",
          "text": [
            "Product of 10x20x30x40x50= 14400000\n"
          ]
        }
      ],
      "source": [
        "list1 = [10,20,30,40,60]\n",
        "\n",
        "product = 1\n",
        "index = 0\n",
        "\n",
        "while index < len(list1):\n",
        "    product = product*list1[index]\n",
        "    index = index + 1\n",
        "    \n",
        "print(\"Product of 10x20x30x40x50=\",product)\n",
        "    "
      ]
    },
    {
      "cell_type": "code",
      "execution_count": 15,
      "metadata": {},
      "outputs": [
        {
          "name": "stdout",
          "output_type": "stream",
          "text": [
            "Product is: 14400000\n"
          ]
        }
      ],
      "source": [
        "list1 = [10, 20, 30, 40, 60]\n",
        "\n",
        "product = 1\n",
        "index = 0\n",
        "\n",
        "while index < len(list1):\n",
        "    product *= list1[index]\n",
        "    index += 1\n",
        "    \n",
        "print(\"Product is:\",product)"
      ]
    },
    {
      "cell_type": "code",
      "execution_count": 23,
      "metadata": {},
      "outputs": [
        {
          "name": "stdout",
          "output_type": "stream",
          "text": [
            "[3, 6, 4, 8, 9]\n"
          ]
        }
      ],
      "source": [
        "n = int(input(\"Enter the no of elements in list:\"))\n",
        "list = []\n",
        "index = 0\n",
        "\n",
        "for i in range(0,n):\n",
        "    index=index+1\n",
        "    ele=int(input(\"Enter {} no:\".format(index)))\n",
        "    list.append(ele)\n",
        "print(list)"
      ]
    },
    {
      "cell_type": "code",
      "execution_count": 27,
      "metadata": {},
      "outputs": [
        {
          "name": "stdout",
          "output_type": "stream",
          "text": [
            "The no of elements in list= 4\n",
            "20\n",
            "30\n",
            "40\n",
            "50\n",
            "Out of range\n"
          ]
        }
      ],
      "source": [
        "numbers=[20,30,40,50]\n",
        "\n",
        "print(\"The no of elements in list=\",len(numbers))\n",
        "index = 0\n",
        "\n",
        "while index < len(numbers):\n",
        "    print(numbers[index])\n",
        "    index = index + 1\n",
        "\n",
        "else:\n",
        "    print(\"Out of range\")\n"
      ]
    },
    {
      "cell_type": "code",
      "execution_count": 29,
      "metadata": {},
      "outputs": [
        {
          "name": "stdout",
          "output_type": "stream",
          "text": [
            "153\n"
          ]
        }
      ],
      "source": [
        "a = int(input(\"Enter the no:\"))\n",
        "c = 1**3 + 5**3+ 3**3\n",
        "print(c)"
      ]
    },
    {
      "cell_type": "code",
      "execution_count": 27,
      "metadata": {},
      "outputs": [
        {
          "name": "stdout",
          "output_type": "stream",
          "text": [
            "153 is Armstrong no\n"
          ]
        }
      ],
      "source": [
        "n = int(input(\"Enter the no of digit:\"))\n",
        "num = int(input(\"Enter the no:\"))\n",
        "\n",
        "sum = 0\n",
        "temp = num\n",
        "\n",
        "while temp>0:\n",
        "    digit = temp%10\n",
        "    sum = sum + digit**n\n",
        "    temp = temp//10\n",
        "\n",
        "if num==sum:\n",
        "    print(\"{} is Armstrong no\".format(num))\n",
        "else:\n",
        "    print(\"{} is not Armstrong no\".format(num))"
      ]
    },
    {
      "cell_type": "code",
      "execution_count": 26,
      "metadata": {},
      "outputs": [
        {
          "name": "stdout",
          "output_type": "stream",
          "text": [
            "3 is a palindrome\n"
          ]
        }
      ],
      "source": [
        "num = int(input(\"Enter the no:\"))\n",
        "\n",
        "rev = 0\n",
        "temp = num\n",
        "\n",
        "while temp>0:\n",
        "    digit = temp%10\n",
        "    rev = rev*10 + digit \n",
        "    temp = temp//10\n",
        "    \n",
        "if num == rev:\n",
        "    print(\"{} is a palindrome\".format(num))\n",
        "else:\n",
        "    print(\"{} is not a palindrome\".format(num))"
      ]
    },
    {
      "cell_type": "code",
      "execution_count": 60,
      "metadata": {},
      "outputs": [
        {
          "name": "stdout",
          "output_type": "stream",
          "text": [
            "[1, 2, 3, 10]\n",
            "[1, 2, 20, 3, 10]\n",
            "[1, 20, 3, 10]\n",
            "[1, 20, 'three', 3, 10]\n",
            "[1, 20, 3, 10]\n",
            "[1, 20, 10]\n",
            "[1, 10, 20]\n",
            "[20, 10, 1]\n",
            "True\n",
            "['hi', 'I', 'am', 'Vishal']\n",
            "Vishal\n",
            "['one', 'two']\n",
            "[20, 10, 1, 'one', 'two', 'three', 40, 50, 60]\n"
          ]
        }
      ],
      "source": [
        "lst = [1,2,3]\n",
        "list = ['one','two','three',40,50,60]\n",
        "lst.append(10)\n",
        "print(lst)\n",
        "lst.insert(2,20)\n",
        "print(lst)\n",
        "lst.remove(2)\n",
        "print(lst)\n",
        "lst.insert(2,'three')\n",
        "print(lst)\n",
        "'''lst.append(list)\n",
        "print(lst)'''\n",
        "del lst[2]\n",
        "print(lst)\n",
        "\n",
        "a=lst.pop(2)\n",
        "print(lst)\n",
        "lst.sort()\n",
        "print(lst)\n",
        "lst.reverse()\n",
        "print(lst)\n",
        "\n",
        "if 20 in lst:\n",
        "    print(True)\n",
        "else:\n",
        "    print(error)\n",
        "    \n",
        "s = \"hi I am Vishal\"\n",
        "spit_lst = s.split()\n",
        "print(spit_lst)\n",
        "print(spit_lst[3])\n",
        "print(list[0:2])\n",
        "new = lst + list\n",
        "print(new)"
      ]
    },
    {
      "cell_type": "code",
      "execution_count": 61,
      "metadata": {},
      "outputs": [
        {
          "name": "stdout",
          "output_type": "stream",
          "text": [
            "10\n",
            "20\n",
            "30\n",
            "40\n",
            "64\n",
            "34\n",
            "18\n",
            "8\n"
          ]
        }
      ],
      "source": [
        "list = [10,20,30,40,64,34,18,8]\n",
        "\n",
        "for ele in list:\n",
        "    print(ele)"
      ]
    },
    {
      "cell_type": "code",
      "execution_count": 65,
      "metadata": {},
      "outputs": [
        {
          "name": "stdout",
          "output_type": "stream",
          "text": [
            "[1, 4, 9, 16, 25]\n"
          ]
        }
      ],
      "source": [
        "n = int(input(\"Enter no of element:\"))\n",
        "square = []\n",
        "\n",
        "for i in range(n):\n",
        "    ele = int(input(\"Enter element:\"))\n",
        "    square.append(ele*ele)\n",
        "print(square)"
      ]
    },
    {
      "cell_type": "code",
      "execution_count": 73,
      "metadata": {},
      "outputs": [
        {
          "name": "stdout",
          "output_type": "stream",
          "text": [
            "[(0, 0), (1, 1), (2, 4), (3, 9), (4, 16), (5, 25), (6, 36), (7, 49), (8, 64), (9, 81), (10, 100)]\n"
          ]
        }
      ],
      "source": [
        "\n",
        "list = [(i,i*i) for i in range(11)]\n",
        "print(list)"
      ]
    },
    {
      "cell_type": "code",
      "execution_count": 11,
      "metadata": {},
      "outputs": [
        {
          "name": "stdout",
          "output_type": "stream",
          "text": [
            "[10, 20, 30, 40, 50]\n",
            "Product of 10x20x30x40x50 = 12000000\n"
          ]
        }
      ],
      "source": [
        "list = []\n",
        "product = 1\n",
        "\n",
        "n = int(input(\"Enter the no of elements in list:\"))\n",
        "\n",
        "for i in range(n):\n",
        "    i = 0\n",
        "    i=int(input(\"Enter the elements in list:\"))\n",
        "    list.append(i)\n",
        "print(list)\n",
        "\n",
        "for i in list:\n",
        "    product=product*i\n",
        "\n",
        "print(\"Product of 10x20x30x40x50 =\",product)\n",
        "    "
      ]
    },
    {
      "cell_type": "code",
      "execution_count": 13,
      "metadata": {},
      "outputs": [
        {
          "name": "stdout",
          "output_type": "stream",
          "text": [
            "a\n",
            "b\n",
            "c\n",
            "d\n"
          ]
        }
      ],
      "source": [
        "list = ['a','b','c','d']\n",
        "for ele in list:\n",
        "    print(ele)"
      ]
    },
    {
      "cell_type": "code",
      "execution_count": 19,
      "metadata": {},
      "outputs": [
        {
          "name": "stdout",
          "output_type": "stream",
          "text": [
            "['apple', 'mango', 'banana', 'cherry']\n"
          ]
        }
      ],
      "source": [
        "fruits = []\n",
        "\n",
        "n = int(input(\"Enter the no elements:\"))\n",
        "\n",
        "for i in range(n):\n",
        "    i = 0\n",
        "    i = input(\"Enter the name of fruits\")\n",
        "    fruits.append(i)\n",
        "print(fruits)\n",
        "    "
      ]
    },
    {
      "cell_type": "code",
      "execution_count": 20,
      "metadata": {},
      "outputs": [
        {
          "name": "stdout",
          "output_type": "stream",
          "text": [
            "4x1=4\n",
            "4x2=8\n",
            "4x3=12\n",
            "4x4=16\n",
            "4x5=20\n",
            "4x6=24\n",
            "4x7=28\n",
            "4x8=32\n",
            "4x9=36\n",
            "4x10=40\n"
          ]
        }
      ],
      "source": [
        "'''Write a Python Program to Display the multiplication Table of 4'''\n",
        "\n",
        "for i in range(10):\n",
        "    i = i+1\n",
        "    product = 4*i\n",
        "    print(\"{}x{}={}\".format(4,i,product))\n"
      ]
    },
    {
      "cell_type": "code",
      "execution_count": 21,
      "metadata": {},
      "outputs": [
        {
          "name": "stdout",
          "output_type": "stream",
          "text": [
            "Good\n",
            "Bad\n",
            "Better\n"
          ]
        }
      ],
      "source": [
        "'''\n",
        "Python program to illustrate l = [\"Good\",\"Bad\",\"Better\"] print\n",
        "each string using for loop\n",
        "'''\n",
        "\n",
        "l = [\"Good\",\"Bad\",\"Better\"]\n",
        "\n",
        "for ele in l:\n",
        "    print(ele)"
      ]
    },
    {
      "cell_type": "code",
      "execution_count": 32,
      "metadata": {},
      "outputs": [
        {
          "name": "stdout",
          "output_type": "stream",
          "text": [
            "krishna\n",
            "(23, 'kiran')\n",
            "(23, 'kiran', 23.98, 'mumbai', 'kaveri', 'krishna')\n"
          ]
        }
      ],
      "source": [
        "'''1) Write the python program to perform following operation on given tuple\n",
        "t = (23,'kiran',23.98,'mumbai','kaveri','krishna')\n",
        "1)print last element in a tuple\n",
        "2)print elements from starting to 4 th negative elements\n",
        "3)print elements from starting to end\n",
        "'''\n",
        "t = (23,'kiran',23.98,'mumbai','kaveri','krishna')\n",
        "print(t[-1])\n",
        "print(t[:-4])\n",
        "print(t[:])"
      ]
    },
    {
      "cell_type": "code",
      "execution_count": 28,
      "metadata": {},
      "outputs": [
        {
          "name": "stdout",
          "output_type": "stream",
          "text": [
            "largest no is: 445\n",
            "smallest no is: 0\n",
            "sum is: 1045\n"
          ]
        }
      ],
      "source": [
        "'''ArithmeticErrorWrite the python program to get the largest no, smallest no ,sum\n",
        "of given tuple\n",
        "t = (11,56,34,90,78,54,89,54,445,0,56,34,12,32)\n",
        "'''\n",
        "t = (11,56,34,90,78,54,89,54,445,0,56,34,12,32)\n",
        "print(\"largest no is:\",max(t))\n",
        "print(\"smallest no is:\",min(t))\n",
        "print(\"sum is:\",sum(t))\n"
      ]
    },
    {
      "cell_type": "code",
      "execution_count": 38,
      "metadata": {},
      "outputs": [
        {
          "name": "stdout",
          "output_type": "stream",
          "text": [
            "lenght of tuple a is: 7\n"
          ]
        }
      ],
      "source": [
        "'''Write the python program to print length of tuple and then\n",
        "delete entire tuple\n",
        "a = (101,165,167,'priya',23.12,'ganesh',(12,'disha','nisha'))\n",
        "'''\n",
        "\n",
        "a = (101,165,167,'priya',23.12,'ganesh',(12,'disha','nisha'))\n",
        "print(\"lenght of tuple a is:\",len(a))\n",
        "del a"
      ]
    },
    {
      "cell_type": "code",
      "execution_count": 39,
      "metadata": {},
      "outputs": [
        {
          "name": "stdout",
          "output_type": "stream",
          "text": [
            "18\n"
          ]
        }
      ],
      "source": [
        "def f(x):\n",
        "    return x+3,x*2\n",
        "x,y = f(5)\n",
        "print(x+y)"
      ]
    },
    {
      "cell_type": "code",
      "execution_count": 45,
      "metadata": {},
      "outputs": [],
      "source": [
        "q = 10\n",
        "def q1(x):\n",
        "    q = 6*x+1\n",
        "    return q\n",
        "q = q1(8)"
      ]
    },
    {
      "cell_type": "code",
      "execution_count": 46,
      "metadata": {},
      "outputs": [
        {
          "name": "stdout",
          "output_type": "stream",
          "text": [
            "7\n"
          ]
        }
      ],
      "source": [
        "abc = 7+12//24\n",
        "print(abc)"
      ]
    },
    {
      "cell_type": "code",
      "execution_count": 48,
      "metadata": {},
      "outputs": [
        {
          "ename": "SyntaxError",
          "evalue": "invalid syntax (1628330615.py, line 1)",
          "output_type": "error",
          "traceback": [
            "\u001b[1;36m  Cell \u001b[1;32mIn[48], line 1\u001b[1;36m\u001b[0m\n\u001b[1;33m    def = 5+6%7\u001b[0m\n\u001b[1;37m        ^\u001b[0m\n\u001b[1;31mSyntaxError\u001b[0m\u001b[1;31m:\u001b[0m invalid syntax\n"
          ]
        }
      ],
      "source": [
        "def = 5+6%7\n",
        "    print(d)"
      ]
    },
    {
      "cell_type": "code",
      "execution_count": 49,
      "metadata": {},
      "outputs": [
        {
          "name": "stdout",
          "output_type": "stream",
          "text": [
            "hiii\n"
          ]
        }
      ],
      "source": [
        "my_fun = \"hey\"\n",
        "\n",
        "def my_fun():\n",
        "    print(\"hiii\")\n",
        "my_fun()"
      ]
    },
    {
      "cell_type": "code",
      "execution_count": 53,
      "metadata": {},
      "outputs": [
        {
          "name": "stdout",
          "output_type": "stream",
          "text": [
            "64\n"
          ]
        }
      ],
      "source": [
        "def get_input():\n",
        "    x = float(input(\"Enter the no:\"))\n",
        "    return x\n",
        "\n",
        "def main():\n",
        "    get_input()\n",
        "    print(x**2)\n",
        "main()    "
      ]
    },
    {
      "cell_type": "code",
      "execution_count": 54,
      "metadata": {},
      "outputs": [
        {
          "name": "stdout",
          "output_type": "stream",
          "text": [
            "64\n"
          ]
        }
      ],
      "source": [
        "def get_input():\n",
        "    x = float(input(\"Enter the no:\"))\n",
        "    return x\n",
        "\n",
        "def main():\n",
        "    get_input()\n",
        "    print(x**2)\n",
        "main()    "
      ]
    },
    {
      "cell_type": "code",
      "execution_count": 20,
      "metadata": {},
      "outputs": [
        {
          "name": "stdout",
          "output_type": "stream",
          "text": [
            "{'age': 21}\n"
          ]
        }
      ],
      "source": [
        "dict = {'name':'Vishal','age':18,'address':'Sinnar'}\n",
        "dict['age'] = 21\n",
        "dict.pop('name')\n",
        "del dict['address']\n",
        "print(dict)"
      ]
    },
    {
      "cell_type": "code",
      "execution_count": 21,
      "metadata": {},
      "outputs": [
        {
          "name": "stdout",
          "output_type": "stream",
          "text": [
            "{1: 1, 2: 12, 3: 63, 4: 84}\n"
          ]
        }
      ],
      "source": [
        "M = {1: 1, 2: 12, 3: 63, 4: 84}\n",
        "c= M.copy()\n",
        "print(c)"
      ]
    },
    {
      "cell_type": "code",
      "execution_count": 22,
      "metadata": {},
      "outputs": [
        {
          "name": "stdout",
          "output_type": "stream",
          "text": [
            "{'a': 11, 'b': 20, 'c': 13, 'd': 14, 'e': 66}\n"
          ]
        }
      ],
      "source": [
        "d = {'a':11,'b':20,'c':13,'d':14,'e':66}\n",
        "new_dict = {k:v for k,v in d.items() if v>10}\n",
        "print(new_dict)"
      ]
    },
    {
      "cell_type": "code",
      "execution_count": null,
      "metadata": {},
      "outputs": [],
      "source": []
    }
  ],
  "metadata": {
    "kernelspec": {
      "display_name": "Python 3",
      "language": "python",
      "name": "python3"
    },
    "language_info": {
      "codemirror_mode": {
        "name": "ipython",
        "version": 3
      },
      "file_extension": ".py",
      "mimetype": "text/x-python",
      "name": "python",
      "nbconvert_exporter": "python",
      "pygments_lexer": "ipython3",
      "version": "3.11.1"
    }
  },
  "nbformat": 4,
  "nbformat_minor": 4
}
