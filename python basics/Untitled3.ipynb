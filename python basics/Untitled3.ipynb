{
  "cells": [
    {
      "cell_type": "code",
      "execution_count": 1,
      "metadata": {
        "trusted": true
      },
      "outputs": [
        {
          "name": "stdout",
          "output_type": "stream",
          "text": [
            "<class 'int'>\n",
            "<class 'float'>\n",
            "<class 'str'>\n"
          ]
        }
      ],
      "source": [
        "a=60\n",
        "b=5.6\n",
        "c=\"Vishal\"\n",
        "print(type(a))\n",
        "print(type(b))\n",
        "print(type(c))\n",
        "\n"
      ]
    },
    {
      "cell_type": "code",
      "execution_count": 2,
      "metadata": {
        "trusted": true
      },
      "outputs": [
        {
          "name": "stdout",
          "output_type": "stream",
          "text": [
            "4\n"
          ]
        }
      ],
      "source": [
        "a,b,c = 4,5,\"Vishal\"\n",
        "print((a))"
      ]
    },
    {
      "cell_type": "code",
      "execution_count": 4,
      "metadata": {
        "trusted": true
      },
      "outputs": [
        {
          "name": "stdout",
          "output_type": "stream",
          "text": [
            "4\n"
          ]
        }
      ],
      "source": [
        "a = b = c = 4\n",
        "print(a)\n"
      ]
    },
    {
      "cell_type": "code",
      "execution_count": 5,
      "metadata": {
        "trusted": true
      },
      "outputs": [
        {
          "name": "stdout",
          "output_type": "stream",
          "text": [
            "2811764\n"
          ]
        }
      ],
      "source": [
        "x= 56\n",
        "print(id(x))"
      ]
    },
    {
      "cell_type": "code",
      "execution_count": 20,
      "metadata": {
        "trusted": true
      },
      "outputs": [
        {
          "name": "stdout",
          "output_type": "stream",
          "text": [
            "values before swaping:a = 3 b = 4\n",
            "values after swaping:a = 4 b = 3\n"
          ]
        }
      ],
      "source": [
        "a=3\n",
        "b=4\n",
        "print(\"values before swaping:\"\"a =\",a,\"b =\",b)\n",
        "a,b = b,a\n",
        "print(\"values after swaping:\"\"a =\",a,\"b =\",b)\n"
      ]
    },
    {
      "cell_type": "code",
      "execution_count": 21,
      "metadata": {
        "trusted": true
      },
      "outputs": [
        {
          "name": "stdout",
          "output_type": "stream",
          "text": [
            "values before swaping:a = 3 b = 4\n",
            "values after swaping:a = 4 b = 3\n"
          ]
        }
      ],
      "source": [
        "a=3\n",
        "b=4\n",
        "print(\"values before swaping:\"\"a =\",a,\"b =\",b)\n",
        "temp = a\n",
        "a = b\n",
        "b = temp\n",
        "print(\"values after swaping:\"\"a =\",a,\"b =\",b)\n"
      ]
    },
    {
      "cell_type": "code",
      "execution_count": 26,
      "metadata": {
        "trusted": true
      },
      "outputs": [
        {
          "name": "stdout",
          "output_type": "stream",
          "text": [
            "Area of municipal garden= 10000\n",
            "perimeter of municipal garden= 500\n"
          ]
        }
      ],
      "source": [
        "len = 200\n",
        "wth = 50\n",
        "print(\"Area of municipal garden=\",len*wth)\n",
        "print(\"perimeter of municipal garden=\",2*len + 2*wth)"
      ]
    },
    {
      "cell_type": "code",
      "execution_count": 29,
      "metadata": {
        "trusted": true
      },
      "outputs": [
        {
          "name": "stdout",
          "output_type": "stream",
          "text": [
            "22600.0\n"
          ]
        }
      ],
      "source": [
        "salary = 20000\n",
        "hra = 10*20000/100\n",
        "ta = 5*20000/100\n",
        "tax = 2*20000/100\n",
        "final_salary = salary+hra+ta-tax\n",
        "print(final_salary)\n"
      ]
    },
    {
      "cell_type": "code",
      "execution_count": 1,
      "metadata": {
        "trusted": true
      },
      "outputs": [
        {
          "name": "stdout",
          "output_type": "stream",
          "text": [
            "hello\n"
          ]
        }
      ],
      "source": [
        "def  myfun():\n",
        "    print(\"hello\")\n",
        "    \n",
        "myfun()"
      ]
    },
    {
      "cell_type": "code",
      "execution_count": null,
      "metadata": {},
      "outputs": [],
      "source": []
    }
  ],
  "metadata": {
    "kernelspec": {
      "display_name": "Python 3",
      "language": "python",
      "name": "python3"
    },
    "language_info": {
      "codemirror_mode": {
        "name": "ipython",
        "version": 3
      },
      "file_extension": ".py",
      "mimetype": "text/x-python",
      "name": "python",
      "nbconvert_exporter": "python",
      "pygments_lexer": "ipython3",
      "version": "3.11.1"
    }
  },
  "nbformat": 4,
  "nbformat_minor": 4
}
