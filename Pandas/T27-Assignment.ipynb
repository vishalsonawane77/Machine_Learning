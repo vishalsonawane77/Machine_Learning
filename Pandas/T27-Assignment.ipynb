{
 "cells": [
  {
   "cell_type": "code",
   "execution_count": 5,
   "metadata": {},
   "outputs": [
    {
     "name": "stdout",
     "output_type": "stream",
     "text": [
      "    color   size      act    age inflated\n",
      "0  YELLOW  SMALL  STRETCH  ADULT        T\n",
      "1  YELLOW  SMALL  STRETCH  ADULT        T\n",
      "2  YELLOW  SMALL  STRETCH  ADULT        T\n",
      "3  YELLOW  SMALL  STRETCH  ADULT        T\n",
      "4  YELLOW  SMALL  STRETCH  ADULT        T\n",
      "     color   size  act    age inflated\n",
      "95  PURPLE  LARGE  DIP  CHILD        F\n",
      "96  PURPLE  LARGE  DIP  CHILD        F\n",
      "97  PURPLE  LARGE  DIP  CHILD        F\n",
      "98  PURPLE  LARGE  DIP  CHILD        F\n",
      "99  PURPLE  LARGE  DIP  CHILD        F\n"
     ]
    }
   ],
   "source": [
    "'''\n",
    "1) Read the following dataset balloons_dataset.csv and perform following operations:\n",
    "i) Print head, tail,\n",
    "ii)Print all columns\n",
    "iii)Split data into feature and target variables of given balloons dataset and print feature and target\n",
    "variable.\n",
    "'''\n",
    "\n",
    "#i) Print head, tail,\n",
    "import pandas as pd\n",
    "df = pd.read_csv('balloons_dataset.csv')\n",
    "print(df.head())\n",
    "print(df.tail())\n"
   ]
  },
  {
   "cell_type": "code",
   "execution_count": 2,
   "metadata": {},
   "outputs": [
    {
     "data": {
      "text/plain": [
       "Index(['color', 'size', 'act', 'age', 'inflated'], dtype='object')"
      ]
     },
     "execution_count": 2,
     "metadata": {},
     "output_type": "execute_result"
    }
   ],
   "source": [
    "#ii)Print all columns\n",
    "import pandas as pd\n",
    "df = pd.read_csv('balloons_dataset.csv')\n",
    "X = df.drop('inflated',axis = 1)\n",
    "y = df['inflated']\n",
    "df.columns"
   ]
  },
  {
   "cell_type": "code",
   "execution_count": 4,
   "metadata": {},
   "outputs": [
    {
     "name": "stdout",
     "output_type": "stream",
     "text": [
      "    color   size      act    age\n",
      "0  YELLOW  SMALL  STRETCH  ADULT\n",
      "1  YELLOW  SMALL  STRETCH  ADULT\n",
      "2  YELLOW  SMALL  STRETCH  ADULT\n",
      "3  YELLOW  SMALL  STRETCH  ADULT\n",
      "4  YELLOW  SMALL  STRETCH  ADULT\n",
      "95    F\n",
      "96    F\n",
      "97    F\n",
      "98    F\n",
      "99    F\n",
      "Name: inflated, dtype: object\n"
     ]
    }
   ],
   "source": [
    "#iii)Split data into feature and target variables of given balloons dataset and print feature and target\n",
    "#variable\n",
    "import pandas as pd\n",
    "df = pd.read_csv('balloons_dataset.csv')\n",
    "X = df.drop('inflated',axis = 1)\n",
    "y = df['inflated']\n",
    "print(X.head())\n",
    "print(y.tail())"
   ]
  },
  {
   "cell_type": "code",
   "execution_count": null,
   "metadata": {},
   "outputs": [],
   "source": []
  }
 ],
 "metadata": {
  "kernelspec": {
   "display_name": "Python 3",
   "language": "python",
   "name": "python3"
  },
  "language_info": {
   "codemirror_mode": {
    "name": "ipython",
    "version": 3
   },
   "file_extension": ".py",
   "mimetype": "text/x-python",
   "name": "python",
   "nbconvert_exporter": "python",
   "pygments_lexer": "ipython3",
   "version": "3.11.1"
  }
 },
 "nbformat": 4,
 "nbformat_minor": 2
}
